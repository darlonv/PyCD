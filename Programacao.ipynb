{
 "cells": [
  {
   "cell_type": "markdown",
   "id": "d6aa8b21",
   "metadata": {},
   "source": [
    "# Progamação para Ciência de Dados\n",
    "\n",
    "## Curso de Ciência de Dados e Inteligência Competitiva para Negócios\n",
    "\n",
    "### Professor Darlon Vasata"
   ]
  },
  {
   "cell_type": "markdown",
   "id": "7cceaf94",
   "metadata": {},
   "source": [
    "# Cronograma\n",
    "\n",
    "- 27/08/2022\n",
    "- 03/09/2022\n",
    "- 17/09/2022\n",
    "- 24/09/2022 (Remoto)"
   ]
  },
  {
   "cell_type": "markdown",
   "id": "d917c013",
   "metadata": {},
   "source": [
    "## Ementa"
   ]
  },
  {
   "cell_type": "markdown",
   "id": "1f46f6ce",
   "metadata": {},
   "source": [
    "## Programação\n",
    "- 27/08/2022\n",
    "    - Manhã\n",
    "        - Linguagem de programação Python e suas características\n",
    "        - Ambientes de desenvolvimento\n",
    "        - Estruturas básicas de programação\n",
    "            - Tipos de dados\n",
    "            - Estruturas de controle\n",
    "        - Orientação a objetos\n",
    "            - Classes\n",
    "            - Objetos\n",
    "            - Herança\n",
    "    - Tarde\n",
    "        - Estruturas de dados em Python\n",
    "            - Listas\n",
    "            - Tuplas\n",
    "            - Strings\n",
    "            - Conjuntos\n",
    "            - Dicionários\n",
    "        - Importação de bibliotecas\n",
    "- 03/09/2022\n",
    "    - Manhã\n",
    "        - Numpy\n",
    "    - Tarde\n",
    "        - Pandas\n",
    "- 17/09/2022\n",
    "    - Manhã\n",
    "        - Pandas\n",
    "        - Matplotlib\n",
    "        - Seaborn\n",
    "    - Tarde\n",
    "        - Apresentação de dados\n",
    "            - Streamlit\n",
    "- 24/09/2022 (Remoto)\n",
    "    - Manhã\n",
    "        - Programação paralela em Python\n",
    "            - Threads\n",
    "            - Pandas\n",
    "                - pandarallel?\n",
    "    - Tarde\n",
    "        - Programação para grandes quantidades de dados\n",
    "            - Pandas\n",
    "            - Estruturas estatísticas\n",
    "            "
   ]
  },
  {
   "cell_type": "markdown",
   "id": "790f16ab",
   "metadata": {},
   "source": [
    "# Avaliação\n"
   ]
  },
  {
   "cell_type": "markdown",
   "id": "992c5c11",
   "metadata": {},
   "source": [
    "- Entrega de um trabalho por semana"
   ]
  }
 ],
 "metadata": {
  "kernelspec": {
   "display_name": "Python 3 (ipykernel)",
   "language": "python",
   "name": "python3"
  },
  "language_info": {
   "codemirror_mode": {
    "name": "ipython",
    "version": 3
   },
   "file_extension": ".py",
   "mimetype": "text/x-python",
   "name": "python",
   "nbconvert_exporter": "python",
   "pygments_lexer": "ipython3",
   "version": "3.8.10"
  }
 },
 "nbformat": 4,
 "nbformat_minor": 5
}
